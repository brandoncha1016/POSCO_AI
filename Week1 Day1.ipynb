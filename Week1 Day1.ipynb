{
 "cells": [
  {
   "cell_type": "markdown",
   "metadata": {},
   "source": [
    "# Day 1 Week 1"
   ]
  },
  {
   "cell_type": "markdown",
   "metadata": {},
   "source": [
    "###  <font color='gray'>단축키 </font>\n",
    "- 들여쓰기 : tab\n",
    "- 내어쓰기 : shift + tab\n",
    "- new line : shift + enter\n",
    "- code to markdown : esc -> m\n",
    "- markdown to code : esc -> y\n",
    "- line number : esc -> capital L\n"
   ]
  },
  {
   "cell_type": "markdown",
   "metadata": {},
   "source": [
    "### <font color='gray'> python shell command </font>\n",
    "\n",
    "- exit shell : exit() or ctrl+d\n",
    "- pip install (not in shell): $sudo apt-get install python-pip\n",
    "- close jupyter notebook : (at command shell) ctrl+c, ctrl+c "
   ]
  },
  {
   "cell_type": "markdown",
   "metadata": {},
   "source": [
    "### <font color='gray'> python variable </font>\n",
    "\n",
    "    # naming rule \n",
    "        - start with underline(_) : ex) _a \n",
    "        - can't use keyword : ex) if, for, etc... "
   ]
  },
  {
   "cell_type": "markdown",
   "metadata": {},
   "source": [
    "## <font color=\"red\"> 실습문제 1</font>"
   ]
  },
  {
   "cell_type": "code",
   "execution_count": 27,
   "metadata": {},
   "outputs": [],
   "source": [
    "# problem 1\n",
    "\n",
    "def convertTemp(f):\n",
    "    c = (float(f)-32)*(5/9)\n",
    "    return round(c,10)"
   ]
  },
  {
   "cell_type": "code",
   "execution_count": 28,
   "metadata": {},
   "outputs": [
    {
     "data": {
      "text/plain": [
       "37.7777777778"
      ]
     },
     "execution_count": 28,
     "metadata": {},
     "output_type": "execute_result"
    }
   ],
   "source": [
    "convertTemp(100)"
   ]
  },
  {
   "cell_type": "markdown",
   "metadata": {},
   "source": [
    "## <font color=\"red\"> 실습문제 2</font>"
   ]
  },
  {
   "cell_type": "code",
   "execution_count": 38,
   "metadata": {},
   "outputs": [],
   "source": [
    "# problem 2\n",
    "\n",
    "def getChange(money,price):\n",
    "    # 물건값은 100원 단위\n",
    "    # 자판기의 동전은 500원, 100원만 있음\n",
    "    change = int(money)-int(price)\n",
    "    \n",
    "    coin500 = int(change)//500\n",
    "    coin100 = (int(change)-(500*coin500))//100\n",
    "    \n",
    "    print(\"거스름돈: \"+str(change)+\"\\n500원짜리: \"+str(coin500)+\"개\\n100원짜리: \"+str(coin100)+\"개\")\n",
    "    \n",
    "    "
   ]
  },
  {
   "cell_type": "code",
   "execution_count": 39,
   "metadata": {},
   "outputs": [
    {
     "name": "stdout",
     "output_type": "stream",
     "text": [
      "거스름돈: 2300\n",
      "500원짜리: 4개\n",
      "100원짜리: 3개\n"
     ]
    }
   ],
   "source": [
    "getChange(5000,2700)"
   ]
  },
  {
   "cell_type": "markdown",
   "metadata": {},
   "source": [
    "# <font color='blue'> 문자열 인덱싱 </font>"
   ]
  },
  {
   "cell_type": "code",
   "execution_count": 31,
   "metadata": {},
   "outputs": [],
   "source": [
    "word = \"12345\""
   ]
  },
  {
   "cell_type": "code",
   "execution_count": 32,
   "metadata": {},
   "outputs": [
    {
     "data": {
      "text/plain": [
       "'12345'"
      ]
     },
     "execution_count": 32,
     "metadata": {},
     "output_type": "execute_result"
    }
   ],
   "source": [
    "word[:]"
   ]
  },
  {
   "cell_type": "code",
   "execution_count": 33,
   "metadata": {},
   "outputs": [
    {
     "data": {
      "text/plain": [
       "'54321'"
      ]
     },
     "execution_count": 33,
     "metadata": {},
     "output_type": "execute_result"
    }
   ],
   "source": [
    "word[::-1]"
   ]
  },
  {
   "cell_type": "code",
   "execution_count": 34,
   "metadata": {},
   "outputs": [
    {
     "data": {
      "text/plain": [
       "'135'"
      ]
     },
     "execution_count": 34,
     "metadata": {},
     "output_type": "execute_result"
    }
   ],
   "source": [
    "word[::2]"
   ]
  },
  {
   "cell_type": "markdown",
   "metadata": {},
   "source": [
    "## <font color=\"red\"> 실습문제 3 </font>"
   ]
  },
  {
   "cell_type": "code",
   "execution_count": 40,
   "metadata": {},
   "outputs": [],
   "source": [
    "# problem3 :문자열 마지막 문자 출력 (len 사용)\n",
    "\n",
    "def getLast(word):\n",
    "    print(word[len(word)-1])"
   ]
  },
  {
   "cell_type": "code",
   "execution_count": 41,
   "metadata": {},
   "outputs": [
    {
     "name": "stdout",
     "output_type": "stream",
     "text": [
      "o\n"
     ]
    }
   ],
   "source": [
    "getLast(\"hello\")"
   ]
  },
  {
   "cell_type": "markdown",
   "metadata": {},
   "source": [
    "## <font color=\"red\"> 실습문제 4 </font>"
   ]
  },
  {
   "cell_type": "code",
   "execution_count": 63,
   "metadata": {},
   "outputs": [],
   "source": [
    "#problem 4 : 날짜(연/월/일)입력: */*/* -> 입력한 날짜의 10년 후는 *년 *월 *일\n",
    "def tenYearsLater():\n",
    "    date = input(\"날짜(연/월/일)입력: \")\n",
    "    # split strings by \"/\"\n",
    "    dList = date.split(\"/\")\n",
    "    # 리스트 언팩킹\n",
    "    year,month,day = dList[0],dList[1],dList[2]\n",
    "    print(\"입력한 날짜의 10년 후는 \"+str(int(year)+10)+\"년 \"+str(month)+\"월 \"+str(day)+\"일\")"
   ]
  },
  {
   "cell_type": "code",
   "execution_count": 64,
   "metadata": {},
   "outputs": [
    {
     "name": "stdout",
     "output_type": "stream",
     "text": [
      "날짜(연/월/일)입력: 2019/08/12\n",
      "입력한 날짜의 10년 후는 2029년 08월 12일\n"
     ]
    }
   ],
   "source": [
    "tenYearsLater()"
   ]
  },
  {
   "cell_type": "markdown",
   "metadata": {},
   "source": [
    "# <font color=\"blue\"> 리스트 수정/삭제 </font>"
   ]
  },
  {
   "cell_type": "code",
   "execution_count": 58,
   "metadata": {},
   "outputs": [
    {
     "data": {
      "text/plain": [
       "[1, 2, 8]"
      ]
     },
     "execution_count": 58,
     "metadata": {},
     "output_type": "execute_result"
    }
   ],
   "source": [
    "a = [1,2,3]\n",
    "a[2]=8\n",
    "a"
   ]
  },
  {
   "cell_type": "code",
   "execution_count": 59,
   "metadata": {},
   "outputs": [
    {
     "data": {
      "text/plain": [
       "[1, 'a', 'b', 'c', 'd', 8]"
      ]
     },
     "execution_count": 59,
     "metadata": {},
     "output_type": "execute_result"
    }
   ],
   "source": [
    "a[1:2] = [\"a\",'b','c','d']\n",
    "a"
   ]
  },
  {
   "cell_type": "code",
   "execution_count": 60,
   "metadata": {},
   "outputs": [
    {
     "data": {
      "text/plain": [
       "[[1.5, 2.5], 'a', 'b', 'c', 'd', 8]"
      ]
     },
     "execution_count": 60,
     "metadata": {},
     "output_type": "execute_result"
    }
   ],
   "source": [
    "a[0] = [1.5, 2.5]\n",
    "a"
   ]
  },
  {
   "cell_type": "code",
   "execution_count": 61,
   "metadata": {},
   "outputs": [
    {
     "data": {
      "text/plain": [
       "2.5"
      ]
     },
     "execution_count": 61,
     "metadata": {},
     "output_type": "execute_result"
    }
   ],
   "source": [
    "a[0][1]"
   ]
  },
  {
   "cell_type": "code",
   "execution_count": 62,
   "metadata": {},
   "outputs": [
    {
     "name": "stdout",
     "output_type": "stream",
     "text": [
      "1 2 3\n"
     ]
    }
   ],
   "source": [
    "t = [1,2,3]\n",
    "a,b,c = t\n",
    "print(a,b,c)"
   ]
  },
  {
   "cell_type": "code",
   "execution_count": 66,
   "metadata": {},
   "outputs": [
    {
     "data": {
      "text/plain": [
       "False"
      ]
     },
     "execution_count": 66,
     "metadata": {},
     "output_type": "execute_result"
    }
   ],
   "source": [
    "[] == None # 김은희 조교님 said.. none은 아무것도 없다.. (?)"
   ]
  },
  {
   "cell_type": "markdown",
   "metadata": {},
   "source": [
    "### <font color =\"orange\"> # tip: python 에서는 들여쓰기가 중요 -> indentation </font>"
   ]
  },
  {
   "cell_type": "markdown",
   "metadata": {},
   "source": [
    "# <font color =\"blue\"> 조건문 </font>"
   ]
  },
  {
   "cell_type": "markdown",
   "metadata": {},
   "source": [
    "## <font color =\"red\"> 실습 1 </font>\n",
    "<font color =\"brown\"> 학생수준평가 시험에서 영어 점수와 수학 점수가 합해서 110점 이상이면 합격이다. 단, 각 점수가 40점 미만이면 불합격이다. 영어(eng), 수학(math)점수를 입력 받아 합격여부를 출력하는 프로그램을 작성하시오.</font>"
   ]
  },
  {
   "cell_type": "code",
   "execution_count": 72,
   "metadata": {},
   "outputs": [],
   "source": [
    "def testResult():\n",
    "    eng = int(input(\"영어 점수 입력: \"))\n",
    "    math = int(input(\"수학 점수 입력: \"))\n",
    "    # 각 점수가 40점 미만이면 불합격\n",
    "    if math+eng < 110:\n",
    "        return \"불합격: 총합 점수 부족\"\n",
    "    elif eng < 40:\n",
    "        return \"불합격: 영어 점수 부족\"\n",
    "    elif math < 40 :\n",
    "        return \"불합격: 수학 점수 부족\"\n",
    "    else:\n",
    "        return \"합격\""
   ]
  },
  {
   "cell_type": "code",
   "execution_count": 82,
   "metadata": {},
   "outputs": [
    {
     "name": "stdout",
     "output_type": "stream",
     "text": [
      "영어 점수 입력: 80\n",
      "수학 점수 입력: 20\n"
     ]
    },
    {
     "data": {
      "text/plain": [
       "'불합격: 총합 점수 부족'"
      ]
     },
     "execution_count": 82,
     "metadata": {},
     "output_type": "execute_result"
    }
   ],
   "source": [
    "testResult()"
   ]
  },
  {
   "cell_type": "markdown",
   "metadata": {},
   "source": [
    "## <font color =\"red\"> 실습 2 </font>\n",
    "<font color =\"brown\"> 세 개의 정수를 입력받아, 가장 큰 수만 출력하는 프로그램을 작성하시오.</font>"
   ]
  },
  {
   "cell_type": "code",
   "execution_count": null,
   "metadata": {},
   "outputs": [],
   "source": [
    "def maxNum():\n",
    "    threeNum = input(\"세 개의 정수를 입력하시오: \")\n",
    "    numList = threeNum.split(\" \")\n",
    "    current_num = numList[0]\n",
    "    "
   ]
  },
  {
   "cell_type": "markdown",
   "metadata": {},
   "source": [
    "# <font color=\"blue\"> while 문 </font>"
   ]
  },
  {
   "cell_type": "code",
   "execution_count": 78,
   "metadata": {},
   "outputs": [
    {
     "name": "stdout",
     "output_type": "stream",
     "text": [
      "1\n",
      "2\n",
      "3\n",
      "4\n",
      "5\n"
     ]
    },
    {
     "data": {
      "text/plain": [
       "\" \\nprint(number, end='')\\n\\n\""
      ]
     },
     "execution_count": 78,
     "metadata": {},
     "output_type": "execute_result"
    }
   ],
   "source": [
    "# 따라해보기\n",
    "\n",
    "number = 1\n",
    "while number <= 5:\n",
    "    print(number)\n",
    "    number = number + 1\n",
    "\n",
    "# 실행결과를 한 줄에 이어서 출력할려면? -> print(number, end='')\n"
   ]
  },
  {
   "cell_type": "code",
   "execution_count": 84,
   "metadata": {},
   "outputs": [
    {
     "name": "stdout",
     "output_type": "stream",
     "text": [
      "55\n"
     ]
    }
   ],
   "source": [
    "# 1부터 10까지의 합 :55\n",
    "n = 1\n",
    "add = 0\n",
    "while n<=10:\n",
    "    add += n\n",
    "    n += 1\n",
    "print(add)"
   ]
  },
  {
   "cell_type": "markdown",
   "metadata": {},
   "source": [
    "# <font color=\"blue\"> for 문 </font>\n"
   ]
  },
  {
   "cell_type": "markdown",
   "metadata": {},
   "source": [
    "## <font color =\"red\"> 실습 2 </font>\n",
    "<font color =\"brown\"> ★ 출력 프로그램 </font>"
   ]
  },
  {
   "cell_type": "code",
   "execution_count": 99,
   "metadata": {},
   "outputs": [],
   "source": [
    "def twinkle():\n",
    "    num = input(\"Input an integer: \")\n",
    "    for n in num:\n",
    "        print(int(n)* \"★\")"
   ]
  },
  {
   "cell_type": "code",
   "execution_count": 101,
   "metadata": {},
   "outputs": [
    {
     "name": "stdout",
     "output_type": "stream",
     "text": [
      "Input an integer: 3159\n",
      "★★★\n",
      "★\n",
      "★★★★★\n",
      "★★★★★★★★★\n"
     ]
    }
   ],
   "source": [
    "twinkle()"
   ]
  },
  {
   "cell_type": "markdown",
   "metadata": {},
   "source": [
    "# <font color=\"blue\"> 리스트 </font>\n"
   ]
  },
  {
   "cell_type": "markdown",
   "metadata": {},
   "source": [
    "## <font color =\"red\"> 실습 1 </font>\n",
    "<font color =\"brown\"> \"done\"을 입력할 때까지 사용자로부터 숫자를 입력 받아 리스트에 저장하고, \"done\"을 입력하면,\n",
    "리스트의 평균, 최대값과 최소값을 출력하는 프로그램을 작성하시오.(힌트. sum(), max(), min() 함수를 사용)</font>"
   ]
  },
  {
   "cell_type": "code",
   "execution_count": 116,
   "metadata": {},
   "outputs": [],
   "source": [
    "def untilDone():\n",
    "    numList = []\n",
    "    current = True\n",
    "    \n",
    "    while current == True:\n",
    "        num = input(\"Enter a number: \")\n",
    "        if num == \"done\":\n",
    "            current = False\n",
    "            print(\"\\n\",numList)\n",
    "            print(\" Average: \"+str((sum(numList)/len(numList)))+\"\\n Maximum: \"+str(max(numList))+\"\\n Minimum: \"+str(min(numList)))\n",
    "        else:\n",
    "            numList = numList + [float(num)]\n",
    "                "
   ]
  },
  {
   "cell_type": "code",
   "execution_count": 117,
   "metadata": {},
   "outputs": [
    {
     "name": "stdout",
     "output_type": "stream",
     "text": [
      "Enter a number: 7\n",
      "Enter a number: 2\n",
      "Enter a number: 5\n",
      "Enter a number: 4\n",
      "Enter a number: 9\n",
      "Enter a number: done\n",
      "\n",
      " [7.0, 2.0, 5.0, 4.0, 9.0]\n",
      " Average: 5.4\n",
      " Maximum: 9.0\n",
      " Minimum: 2.0\n"
     ]
    }
   ],
   "source": [
    "untilDone()"
   ]
  },
  {
   "cell_type": "code",
   "execution_count": null,
   "metadata": {},
   "outputs": [],
   "source": []
  }
 ],
 "metadata": {
  "kernelspec": {
   "display_name": "Python 3",
   "language": "python",
   "name": "python3"
  },
  "language_info": {
   "codemirror_mode": {
    "name": "ipython",
    "version": 3
   },
   "file_extension": ".py",
   "mimetype": "text/x-python",
   "name": "python",
   "nbconvert_exporter": "python",
   "pygments_lexer": "ipython3",
   "version": "3.7.3"
  }
 },
 "nbformat": 4,
 "nbformat_minor": 2
}
