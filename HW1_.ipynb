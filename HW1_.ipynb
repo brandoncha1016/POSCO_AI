{
 "cells": [
  {
   "cell_type": "markdown",
   "metadata": {},
   "source": [
    "\n",
    "# <font color='blue'> __HW1__ </font>\n",
    "<font color='gray'>빅데이터 AI 아카데미 8기 1주차 과제 / \n",
    "B반 교육생 차의성</font>\n",
    "***"
   ]
  },
  {
   "cell_type": "markdown",
   "metadata": {},
   "source": [
    "### <font color='red'>실습문제1</font>\n",
    "<font color='brown'>화씨온도(℉)를 입력 받아서 섭씨온도(℃)로 바꾸는 프로그램을 작성하시오. </font>"
   ]
  },
  {
   "cell_type": "code",
   "execution_count": 32,
   "metadata": {},
   "outputs": [],
   "source": [
    "def convertTemp():\n",
    "    f = input (\"화씨온도: \")\n",
    "    c = (float(f)-32)*(5/9)\n",
    "    print(\"섭씨온도: \"+str(round(c,10)))\n"
   ]
  },
  {
   "cell_type": "code",
   "execution_count": 33,
   "metadata": {},
   "outputs": [
    {
     "name": "stdout",
     "output_type": "stream",
     "text": [
      "화씨온도: 100\n",
      "섭씨온도: 37.7777777778\n"
     ]
    }
   ],
   "source": [
    "convertTemp()"
   ]
  },
  {
   "cell_type": "markdown",
   "metadata": {},
   "source": [
    "***"
   ]
  },
  {
   "cell_type": "markdown",
   "metadata": {},
   "source": [
    "### <font color='red'>실습문제2</font>\n",
    "<font color='brown'>사용자로부터 투입한 돈과 물건 값을 입력 받아, 잔돈을 계산하여 출력한다. 단, 동전의 개수는 최소화 할 것.</font>\n",
    "<font color='blue'>    \n",
    "- 물건 값은 100원 단위\n",
    "- 자판기의 동전은 500원, 100원만 있음</font>"
   ]
  },
  {
   "cell_type": "code",
   "execution_count": 20,
   "metadata": {},
   "outputs": [],
   "source": [
    "# problem 2\n",
    "\n",
    "def getChange():\n",
    "    # 물건값은 100원 단위\n",
    "    # 자판기의 동전은 500원, 100원만 있음\n",
    "    money = input(\"투입한 돈: \")\n",
    "    price = input(\"물건값: \")\n",
    "    change = int(money)-int(price)\n",
    "    \n",
    "    coin500 = int(change)//500\n",
    "    coin100 = (int(change)-(500*coin500))//100\n",
    "    print(\"거스름돈: \"+str(change)+\"\\n500원짜리: \"+str(coin500)+\"개\\n100원짜리: \"+str(coin100)+\"개\")\n",
    "    \n",
    "    "
   ]
  },
  {
   "cell_type": "code",
   "execution_count": 21,
   "metadata": {},
   "outputs": [
    {
     "name": "stdout",
     "output_type": "stream",
     "text": [
      "투입한 돈: 5000\n",
      "물건값: 2700\n",
      "거스름돈: 2300\n",
      "500원짜리: 4개\n",
      "100원짜리: 3개\n"
     ]
    }
   ],
   "source": [
    "getChange()"
   ]
  },
  {
   "cell_type": "markdown",
   "metadata": {},
   "source": [
    "***"
   ]
  },
  {
   "cell_type": "markdown",
   "metadata": {},
   "source": [
    "### <font color='red'>실습문제3</font>\n",
    "<font color='brown'>원의 반지름을 r을 입력 받아, 원의 둘레와 넓이를 구하는 프로그램을 작성하시오</font>"
   ]
  },
  {
   "cell_type": "code",
   "execution_count": 30,
   "metadata": {},
   "outputs": [],
   "source": [
    "def getCircle():\n",
    "    pi = 3.141592\n",
    "    r = int(input(\"반지름을 입력하시오: \"))\n",
    "    # 원 둘레\n",
    "    l = 2*pi*r\n",
    "    # 원 넓이\n",
    "    a = pi*(r**2)\n",
    "    print(\"원 둘레:\",round(l,2))\n",
    "    print(\"원 넓이:\",round(a,2))"
   ]
  },
  {
   "cell_type": "code",
   "execution_count": 31,
   "metadata": {},
   "outputs": [
    {
     "name": "stdout",
     "output_type": "stream",
     "text": [
      "반지름을 입력하시오: 5\n",
      "원 둘레: 31.42\n",
      "원 넓이: 78.54\n"
     ]
    }
   ],
   "source": [
    "getCircle()"
   ]
  },
  {
   "cell_type": "markdown",
   "metadata": {},
   "source": [
    "***"
   ]
  },
  {
   "cell_type": "markdown",
   "metadata": {},
   "source": [
    "### <font color='red'>실습문제4</font>\n",
    "<font color='brown'>한 문장을 입력 받아, 아래와 같이 각 알파벳 각 문자를 원소로 갖는 리스트를 작성하시오. (문장중에 ! , . ? –를 제외한 문자의 입력은 고려하지 않는다.)</font>"
   ]
  },
  {
   "cell_type": "code",
   "execution_count": 34,
   "metadata": {},
   "outputs": [],
   "source": [
    "def sentenceList():\n",
    "    sentence = input(\"한 문장을 입력하시오: \")\n",
    "    print(list(sentence))"
   ]
  },
  {
   "cell_type": "code",
   "execution_count": 35,
   "metadata": {},
   "outputs": [
    {
     "name": "stdout",
     "output_type": "stream",
     "text": [
      "한 문장을 입력하시오: Python is fun!\n",
      "['P', 'y', 't', 'h', 'o', 'n', ' ', 'i', 's', ' ', 'f', 'u', 'n', '!']\n"
     ]
    }
   ],
   "source": [
    "sentenceList()"
   ]
  },
  {
   "cell_type": "markdown",
   "metadata": {},
   "source": [
    "***"
   ]
  },
  {
   "cell_type": "markdown",
   "metadata": {},
   "source": [
    "### <font color='red'>실습문제5</font>\n",
    "<font color='brown'> 2개의 정수를 입력 받아, 사칙연산 및 나머지 연산의 결과를 아래와 같이 출력하는 프로그램을 작성하시오.</font>"
   ]
  },
  {
   "cell_type": "code",
   "execution_count": 38,
   "metadata": {},
   "outputs": [],
   "source": [
    "def arithmetic():\n",
    "    # ex. Enter two integers: 8 5\n",
    "    numbers = input(\"Enter two integers:\")\n",
    "    numList = numbers.split(\" \")\n",
    "    print(numList[0]+\" + \"+numList[1]+\" = \"+str(int(numList[0])+int(numList[1])))\n",
    "    print(numList[0]+\" - \"+numList[1]+\" = \"+str(int(numList[0])-int(numList[1])))\n",
    "    print(numList[0]+\" * \"+numList[1]+\" = \"+str(int(numList[0])*int(numList[1])))\n",
    "    print(numList[0]+\" / \"+numList[1]+\" = \"+str(int(numList[0])/int(numList[1])))\n",
    "    print(numList[0]+\" % \"+numList[1]+\" = \"+str(int(numList[0])%int(numList[1])))"
   ]
  },
  {
   "cell_type": "code",
   "execution_count": 43,
   "metadata": {},
   "outputs": [
    {
     "name": "stdout",
     "output_type": "stream",
     "text": [
      "Enter two integers:8 5\n",
      "8 + 5 = 13\n",
      "8 - 5 = 3\n",
      "8 * 5 = 40\n",
      "8 / 5 = 1.6\n",
      "8 % 5 = 3\n"
     ]
    }
   ],
   "source": [
    "arithmetic()"
   ]
  },
  {
   "cell_type": "markdown",
   "metadata": {},
   "source": [
    "***"
   ]
  },
  {
   "cell_type": "markdown",
   "metadata": {},
   "source": [
    "### <font color='red'>실습문제6</font>\n",
    "<font color='brown'>두 정수를 입력 받아, 합과 평균을 구하여 출력하는 프로그램을 작성하시오. (평균 소수 첫째 자리까지 나타내기) </font>"
   ]
  },
  {
   "cell_type": "code",
   "execution_count": 45,
   "metadata": {},
   "outputs": [],
   "source": [
    "def sumAverage():\n",
    "    numbers = input('Enter two integers: ')\n",
    "    numList = numbers.split(\" \")\n",
    "    sumNum = (int(numList[0])+int(numList[1]))\n",
    "    print(\"The sum of \"+numList[0]+\" and \"+numList[1]+\" is \"+str(sumNum))\n",
    "    print(\"The average of numbers is \"+str(sumNum/2))"
   ]
  },
  {
   "cell_type": "code",
   "execution_count": 46,
   "metadata": {},
   "outputs": [
    {
     "name": "stdout",
     "output_type": "stream",
     "text": [
      "Enter two integers: 70 91\n",
      "The sum of 70 and 91 is 161\n",
      "The average of numbers is 80.5\n"
     ]
    }
   ],
   "source": [
    "sumAverage()"
   ]
  },
  {
   "cell_type": "markdown",
   "metadata": {},
   "source": [
    "***"
   ]
  },
  {
   "cell_type": "markdown",
   "metadata": {},
   "source": [
    "### <font color='red'>실습문제7</font>\n",
    "<font color='brown'>아래의 실행예제를 참고하여 프로그램을 작성하라.</font>"
   ]
  },
  {
   "cell_type": "code",
   "execution_count": 47,
   "metadata": {},
   "outputs": [],
   "source": [
    "#problem 4 : 날짜(연/월/일)입력: */*/* -> 입력한 날짜의 10년 후는 *년 *월 *일\n",
    "def tenYearsLater():\n",
    "    date = input(\"날짜(연/월/일)입력: \")\n",
    "    # split strings by \"/\"\n",
    "    dList = date.split(\"/\")\n",
    "    # 리스트 언팩킹\n",
    "    year,month,day = dList[0],dList[1],dList[2]\n",
    "    print(\"입력한 날짜의 10년 후는 \"+str(int(year)+10)+\"년 \"+str(month)+\"월 \"+str(day)+\"일\")"
   ]
  },
  {
   "cell_type": "code",
   "execution_count": 48,
   "metadata": {},
   "outputs": [
    {
     "name": "stdout",
     "output_type": "stream",
     "text": [
      "날짜(연/월/일)입력: 2019/08/12\n",
      "입력한 날짜의 10년 후는 2029년 08월 12일\n"
     ]
    }
   ],
   "source": [
    "tenYearsLater()"
   ]
  },
  {
   "cell_type": "markdown",
   "metadata": {},
   "source": [
    "***"
   ]
  },
  {
   "cell_type": "markdown",
   "metadata": {},
   "source": [
    "### <font color='red'>실습문제8</font>\n",
    "<font color='brown'></font>"
   ]
  },
  {
   "cell_type": "code",
   "execution_count": null,
   "metadata": {},
   "outputs": [],
   "source": []
  }
 ],
 "metadata": {
  "kernelspec": {
   "display_name": "Python 3",
   "language": "python",
   "name": "python3"
  },
  "language_info": {
   "codemirror_mode": {
    "name": "ipython",
    "version": 3
   },
   "file_extension": ".py",
   "mimetype": "text/x-python",
   "name": "python",
   "nbconvert_exporter": "python",
   "pygments_lexer": "ipython3",
   "version": "3.7.3"
  }
 },
 "nbformat": 4,
 "nbformat_minor": 2
}
